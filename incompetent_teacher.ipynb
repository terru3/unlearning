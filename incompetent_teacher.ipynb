{
 "cells": [
  {
   "cell_type": "markdown",
   "id": "0b4b5f20-1af9-4c76-9817-13a502b84e84",
   "metadata": {},
   "source": [
    "# Incompetent Teacher Unlearning"
   ]
  },
  {
   "cell_type": "markdown",
   "id": "5eb95043-53a1-4690-aaee-69299f3f93cf",
   "metadata": {},
   "source": [
    "https://arxiv.org/abs/2205.08096 "
   ]
  },
  {
   "cell_type": "code",
   "execution_count": null,
   "id": "1891eb4f-21f5-4851-a46b-23bdc1807d99",
   "metadata": {},
   "outputs": [],
   "source": [
    "import copy\n",
    "import json\n",
    "import sys\n",
    "\n",
    "import matplotlib.pyplot as plt\n",
    "import numpy as np\n",
    "import torch\n",
    "import torch.nn as nn\n",
    "import torch.nn.functional as F\n",
    "import torch.optim as optim\n",
    "import torchvision\n",
    "from torchinfo import summary\n",
    "from torchvision import transforms\n",
    "from tqdm import tqdm"
   ]
  },
  {
   "cell_type": "code",
   "execution_count": null,
   "id": "c3542643-29bd-43eb-a6d8-85e647092884",
   "metadata": {},
   "outputs": [],
   "source": [
    "drive = None\n",
    "# from google.colab import drive\n",
    "# drive.mount('/content/drive')"
   ]
  },
  {
   "cell_type": "code",
   "execution_count": null,
   "id": "00938151-9630-4a3d-8d1c-1c5b77bd8483",
   "metadata": {},
   "outputs": [],
   "source": [
    "path = \"./\"\n",
    "sys.path.append(path)"
   ]
  },
  {
   "cell_type": "code",
   "execution_count": null,
   "id": "6ec7b014-35f6-4a0f-8b2c-8f5989b9ffbf",
   "metadata": {},
   "outputs": [],
   "source": [
    "device = torch.device(\"cuda\") if torch.cuda.is_available() else torch.device(\"cpu\")\n",
    "path = path if drive is None else \"/content/drive/MyDrive/self-learn/unlearning\""
   ]
  },
  {
   "cell_type": "code",
   "execution_count": null,
   "id": "5aafaf74-c71c-4d1b-9103-d401d981f3bf",
   "metadata": {},
   "outputs": [],
   "source": [
    "from constants import *\n",
    "from utils import set_seed, train_data, val_data, \\\n",
    "                    train_loader, val_loader, fine_labels\n",
    "from models import get_model, get_attack_model\n",
    "    \n",
    "set_seed()"
   ]
  },
  {
   "cell_type": "code",
   "execution_count": null,
   "id": "2e22f732-856e-4c90-b268-3007fba963bb",
   "metadata": {},
   "outputs": [],
   "source": [
    "model, optimizer = get_model(SEED)"
   ]
  },
  {
   "cell_type": "markdown",
   "id": "5e04356c-7f4b-4d26-a1b3-55f00dd73b62",
   "metadata": {},
   "source": [
    "# Setup"
   ]
  },
  {
   "cell_type": "code",
   "execution_count": 1,
   "id": "498ee392-5bae-4962-b62f-c5512441fe68",
   "metadata": {},
   "outputs": [
    {
     "ename": "NameError",
     "evalue": "name 'fine_labels' is not defined",
     "output_type": "error",
     "traceback": [
      "\u001b[0;31m---------------------------------------------------------------------------\u001b[0m",
      "\u001b[0;31mNameError\u001b[0m                                 Traceback (most recent call last)",
      "Cell \u001b[0;32mIn[1], line 2\u001b[0m\n\u001b[1;32m      1\u001b[0m target_class \u001b[38;5;241m=\u001b[39m \u001b[38;5;241m23\u001b[39m\n\u001b[0;32m----> 2\u001b[0m \u001b[43mfine_labels\u001b[49m[target_class]\n",
      "\u001b[0;31mNameError\u001b[0m: name 'fine_labels' is not defined"
     ]
    }
   ],
   "source": [
    "target_class = 23\n",
    "fine_labels[target_class]"
   ]
  },
  {
   "cell_type": "code",
   "execution_count": 33,
   "id": "6e77e022-6385-4c2e-9e84-2cf78c128ece",
   "metadata": {},
   "outputs": [],
   "source": [
    "## TODO:\n",
    "\n",
    "\n",
    "## Train as usual a competent teacher on the whole dataset, and initialize a student using its params\n",
    "## Create incompetent teacher via randomly initialized params\n",
    "\n",
    "## use unlearn loss to train student\n",
    "## for comparison, train a model entirely on retrain and see what accuracies / ZRF it achieves"
   ]
  },
  {
   "cell_type": "code",
   "execution_count": 31,
   "id": "ffb1857a-89da-4e1a-b84b-510efeeb2a7d",
   "metadata": {},
   "outputs": [],
   "source": [
    "def unlearn_loss(s_logits, ct_logits, it_logits, labels):\n",
    "    \n",
    "    ct_probs, it_probs = F.softmax(ct_logits, dim=-1), F.softmax(it_logits, dim=-1)\n",
    "    # assuming 1 = forget\n",
    "    teacher_out = labels * it_probs + (1-labels) * ct_probs\n",
    "    s_log_probs = F.log_softmax(s_logits, dim=-1) # F.kl_div expects log softmax in first arg\n",
    "    \n",
    "    return F.kl_div(s_log_probs, teacher_out)"
   ]
  },
  {
   "cell_type": "code",
   "execution_count": 32,
   "id": "05343c3b-b32a-4f05-98b4-27cbfb925aea",
   "metadata": {},
   "outputs": [],
   "source": [
    "def JSDiv(model_1_logits, model_2_logits):\n",
    "    model_1_probs, model_2_probs = F.softmax(model_1_logits, dim=-1), F.softmax(model_2_logits, dim=-1)\n",
    "    m = (model_1_probs + model_2_probs) / 2\n",
    "    return (F.kl_div(torch.log(model_1_probs), m) + F.kl_div(torch.log(model_2_probs), m)) / 2\n",
    "\n",
    "def ZRF(model_1, model_2, forget_loader):\n",
    "    # TODO: loop over all batches in forget_loader and concatenate model logits\n",
    "    pass\n",
    "    ## to validate\n",
    "    # 1-(JSDiv() / len(forget_loader))"
   ]
  },
  {
   "cell_type": "code",
   "execution_count": null,
   "id": "88371714-ff15-4082-be85-e22b3df1fab8",
   "metadata": {},
   "outputs": [],
   "source": []
  }
 ],
 "metadata": {
  "kernelspec": {
   "display_name": "Python 3 (ipykernel)",
   "language": "python",
   "name": "python3"
  },
  "language_info": {
   "codemirror_mode": {
    "name": "ipython",
    "version": 3
   },
   "file_extension": ".py",
   "mimetype": "text/x-python",
   "name": "python",
   "nbconvert_exporter": "python",
   "pygments_lexer": "ipython3",
   "version": "3.11.5"
  }
 },
 "nbformat": 4,
 "nbformat_minor": 5
}
