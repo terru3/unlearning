{
 "cells": [
  {
   "cell_type": "markdown",
   "id": "0b4b5f20-1af9-4c76-9817-13a502b84e84",
   "metadata": {},
   "source": [
    "# Selective Synaptic Dampening (SSD)"
   ]
  },
  {
   "cell_type": "markdown",
   "id": "5eb95043-53a1-4690-aaee-69299f3f93cf",
   "metadata": {},
   "source": [
    "https://arxiv.org/abs/2308.07707"
   ]
  },
  {
   "cell_type": "code",
   "execution_count": null,
   "id": "8d8b9b82-cd89-4401-aa1d-a2ee01675e47",
   "metadata": {},
   "outputs": [],
   "source": [
    "import copy\n",
    "import json\n",
    "import sys\n",
    "\n",
    "import matplotlib.pyplot as plt\n",
    "import numpy as np\n",
    "import torch\n",
    "import torch.nn as nn\n",
    "import torch.nn.functional as F\n",
    "import torch.optim as optim\n",
    "import torchvision\n",
    "from torchinfo import summary\n",
    "from torchvision import transforms\n",
    "from tqdm import tqdm"
   ]
  },
  {
   "cell_type": "code",
   "execution_count": null,
   "id": "209e2728-6ead-40f7-96f0-1f2ef7646a08",
   "metadata": {},
   "outputs": [],
   "source": [
    "drive = None\n",
    "# from google.colab import drive\n",
    "# drive.mount('/content/drive')"
   ]
  },
  {
   "cell_type": "code",
   "execution_count": null,
   "id": "d7be4ef1-65d0-4d0a-8b3c-e54154f2f7d2",
   "metadata": {},
   "outputs": [],
   "source": [
    "path = \"./\"\n",
    "sys.path.append(path)"
   ]
  },
  {
   "cell_type": "code",
   "execution_count": null,
   "id": "38a5a33d-7779-458d-a0bd-678e15f207e8",
   "metadata": {},
   "outputs": [],
   "source": [
    "device = torch.device(\"cuda\") if torch.cuda.is_available() else torch.device(\"cpu\")\n",
    "path = path if drive is None else \"/content/drive/MyDrive/self-learn/unlearning\""
   ]
  },
  {
   "cell_type": "code",
   "execution_count": null,
   "id": "bbbd3f0a-951f-442b-a838-82d0177bb616",
   "metadata": {},
   "outputs": [],
   "source": [
    "from constants import *\n",
    "from utils import set_seed, train_data, val_data, \\\n",
    "                    train_loader, val_loader, fine_labels\n",
    "from models import get_model, get_attack_model\n",
    "    \n",
    "set_seed()"
   ]
  },
  {
   "cell_type": "code",
   "execution_count": 8,
   "id": "092d4ad8-4d89-4b8a-bd28-eb9cd44fa6ac",
   "metadata": {},
   "outputs": [],
   "source": [
    "model, optimizer = get_model(SEED)"
   ]
  },
  {
   "cell_type": "markdown",
   "id": "4cbaed7e-f154-4f09-9dc7-23d984921c83",
   "metadata": {},
   "source": [
    "# Setup"
   ]
  },
  {
   "cell_type": "code",
   "execution_count": null,
   "id": "764328cc-4458-4879-9c19-88caad82698a",
   "metadata": {},
   "outputs": [],
   "source": [
    "target_class = 23\n",
    "fine_labels[target_class]"
   ]
  },
  {
   "cell_type": "code",
   "execution_count": null,
   "id": "78e85115-1540-438a-b44d-f02d47a979a5",
   "metadata": {},
   "outputs": [],
   "source": [
    "def eval(model, val_loader, criterion, device):\n",
    "    val_losses = []\n",
    "    correct = 0\n",
    "    model.eval()\n",
    "    \n",
    "    with torch.no_grad():\n",
    "        for i, (img, label) in enumerate(val_loader):\n",
    "          \n",
    "            img, label = img.to(device), label.to(device)\n",
    "            out = model(img)\n",
    "            \n",
    "            loss_eval = criterion(out, label)\n",
    "            val_losses.append(loss_eval.item())\n",
    "            \n",
    "            pred = out.argmax(dim=1, keepdim=True)\n",
    "            correct += pred.eq(label.view_as(pred)).sum().item()\n",
    "\n",
    "    val_loss = np.mean(val_losses)\n",
    "    val_acc = correct / (len(val_loader) * BATCH_SIZE)\n",
    "    \n",
    "    return val_loss, val_acc"
   ]
  },
  {
   "cell_type": "code",
   "execution_count": null,
   "id": "8a105a27-a151-42ca-83b7-4b681167763e",
   "metadata": {},
   "outputs": [],
   "source": [
    "forget_idx = np.where(np.array(train_data.targets) == target_class)[0]\n",
    "forget_mask = np.zeros(len(train_data.targets), dtype=bool)\n",
    "forget_mask[forget_idx] = True\n",
    "retain_idx = np.arange(forget_mask.size)[~forget_mask]\n",
    "\n",
    "forget_data = torch.utils.data.Subset(train_data, forget_idx)\n",
    "retain_data = torch.utils.data.Subset(train_data, retain_idx)\n",
    "\n",
    "forget_loader = torch.utils.data.DataLoader(forget_data, batch_size=BATCH_SIZE, shuffle=False)\n",
    "retain_loader = torch.utils.data.DataLoader(retain_data, batch_size=BATCH_SIZE, shuffle=False)"
   ]
  },
  {
   "cell_type": "code",
   "execution_count": null,
   "id": "c1181bd9-139e-4c31-8fc1-2abf3cab0162",
   "metadata": {},
   "outputs": [],
   "source": [
    "LOAD_EPOCH = 50\n",
    "\n",
    "model, optimizer = get_model()\n",
    "model.load_state_dict(torch.load(f\"{path}/checkpoints/{MODEL_NAME}_EPOCH_{LOAD_EPOCH}_SEED_{SEED}.pt\",\n",
    "                                  map_location=device)[\"model_state_dict\"])\n",
    "optimizer.load_state_dict(torch.load(f\"{path}/checkpoints/{MODEL_NAME}_EPOCH_{LOAD_EPOCH}_SEED_{SEED}.pt\",\n",
    "                                  map_location=device)[\"optimizer_state_dict\"])\n",
    "model.to(device)\n",
    "print('Model and optimizer loaded')"
   ]
  },
  {
   "cell_type": "code",
   "execution_count": null,
   "id": "f43aa316-ec64-4c07-9546-0164fb9c1c20",
   "metadata": {},
   "outputs": [],
   "source": [
    "criterion = nn.NLLLoss()"
   ]
  },
  {
   "cell_type": "markdown",
   "id": "df3bf986-ce68-4ba8-a4a7-ee32546d2cc3",
   "metadata": {},
   "source": [
    "# Utils"
   ]
  },
  {
   "cell_type": "code",
   "execution_count": 41,
   "id": "747e2a8c-863a-4385-8abe-dfb2cf75b07f",
   "metadata": {},
   "outputs": [],
   "source": [
    "def calc_param_importances(model, loader, optimizer, criterion):\n",
    "    \n",
    "    param_importances = dict([(name, torch.zeros_like(p, device=p.device))\n",
    "                    for name, p in model.named_parameters()\n",
    "                    ])\n",
    "    \n",
    "    for step, (img, label) in enumerate(loader):\n",
    "        # img, label = img.to(device), label.to(device)\n",
    "        optimizer.zero_grad()\n",
    "        out = model(img)\n",
    "        loss = criterion(out, label)\n",
    "        loss.backward()\n",
    "\n",
    "        for (_, p), (_, imp) in zip(model.named_parameters(),\n",
    "                                    param_importances.items()):\n",
    "            if p.grad is not None:\n",
    "                imp.data += p.grad.data.clone().pow(2)\n",
    "\n",
    "    param_importances = {_: imp / float(len(loader)) for _, imp in param_importances.items()}\n",
    "    \n",
    "    return param_importances"
   ]
  },
  {
   "cell_type": "code",
   "execution_count": 49,
   "id": "f7416f88-de1a-43ec-90a0-95edbe37afc1",
   "metadata": {},
   "outputs": [],
   "source": [
    "def apply_ssd(model, full_importances, forget_importances,\n",
    "              alpha=10, lambda_dampen=1):\n",
    "    # α and λ chosen for CIFAR as from paper\n",
    "    \n",
    "    ## use alpha * D threshold to find specialized parameters, update via multiplication of β, where\n",
    "    ## β = min((λD / D_f), 1)\n",
    "    with torch.no_grad():\n",
    "        for (_, p), (_, full_imp), (_, forget_imp) in zip(model.named_parameters(),\n",
    "                                                          full_importances.items(),\n",
    "                                                          forget_importances.items()):\n",
    "            \n",
    "            # compute indices of specialized parameters\n",
    "            spec_idx = torch.where(forget_imp > (alpha * full_imp))\n",
    "\n",
    "            # compute dampening factor β\n",
    "            beta = (lambda_dampen * full_imp) / forget_imp\n",
    "            # prepare param update factor\n",
    "            delta = beta[spec_idx]\n",
    "            delta[torch.where(delta > 1)] = 1 # bound by 1\n",
    "\n",
    "            # apply updates\n",
    "            p[spec_idx] *= delta"
   ]
  },
  {
   "cell_type": "markdown",
   "id": "3def29fd-a3cb-48d5-adf9-70d3d3069d7c",
   "metadata": {},
   "source": [
    "# Driver code TODO/TEST"
   ]
  },
  {
   "cell_type": "code",
   "execution_count": null,
   "id": "3a01a0f6-64d2-4b4a-9b8e-d17d7c1c9ce1",
   "metadata": {},
   "outputs": [],
   "source": [
    "model.eval()"
   ]
  },
  {
   "cell_type": "code",
   "execution_count": null,
   "id": "76026fe4-f1a6-4002-8cbd-e80da49b1ac3",
   "metadata": {},
   "outputs": [],
   "source": [
    "full_importances = calc_importance(model, train_loader, optimizer, criterion)\n",
    "del train_data, train_loader"
   ]
  },
  {
   "cell_type": "code",
   "execution_count": null,
   "id": "310bc040-3454-4d12-8661-5f533c6f3668",
   "metadata": {},
   "outputs": [],
   "source": [
    "forget_importances = calc_importance(model, forget_loader, optimizer, criterion)  "
   ]
  },
  {
   "cell_type": "code",
   "execution_count": null,
   "id": "cd22a6da-bbd8-47b8-85c6-a473b57a7be9",
   "metadata": {},
   "outputs": [],
   "source": [
    "# verify unlearning before\n",
    "# HERE"
   ]
  },
  {
   "cell_type": "code",
   "execution_count": null,
   "id": "7ec393a3-d324-4a23-b171-c2e6a71d83bf",
   "metadata": {},
   "outputs": [],
   "source": [
    "apply_ssd(model, full_importances, forget_importances, alpha=10, lambda_dampen=1)"
   ]
  },
  {
   "cell_type": "code",
   "execution_count": null,
   "id": "38b5a3e5-883a-495d-b7b6-e49180cab8a5",
   "metadata": {},
   "outputs": [],
   "source": [
    "# verify unlearning after\n",
    "# HERE"
   ]
  }
 ],
 "metadata": {
  "kernelspec": {
   "display_name": "Python 3 (ipykernel)",
   "language": "python",
   "name": "python3"
  },
  "language_info": {
   "codemirror_mode": {
    "name": "ipython",
    "version": 3
   },
   "file_extension": ".py",
   "mimetype": "text/x-python",
   "name": "python",
   "nbconvert_exporter": "python",
   "pygments_lexer": "ipython3",
   "version": "3.11.5"
  }
 },
 "nbformat": 4,
 "nbformat_minor": 5
}
